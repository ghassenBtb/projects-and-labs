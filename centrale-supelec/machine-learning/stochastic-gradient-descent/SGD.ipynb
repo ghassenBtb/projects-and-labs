{
 "cells": [
  {
   "cell_type": "markdown",
   "metadata": {},
   "source": [
    "# Stochastic Gradient Descent"
   ]
  },
  {
   "cell_type": "code",
   "execution_count": 1,
   "metadata": {},
   "outputs": [],
   "source": [
    "%matplotlib inline\n",
    "import matplotlib.pyplot as plt\n",
    "import seaborn as sns; sns.set()\n",
    "import numpy as np\n",
    "import pandas as pd\n",
    "import math"
   ]
  },
  {
   "cell_type": "markdown",
   "metadata": {},
   "source": [
    "We import the dataset that we are going to use, an indian dataset including in the last column information about the diabetes status of patients:"
   ]
  },
  {
   "cell_type": "code",
   "execution_count": 2,
   "metadata": {},
   "outputs": [],
   "source": [
    "from sklearn.model_selection import train_test_split\n",
    "\n",
    "data = pd.read_csv(\"w8a/w8a.csv\", sep=\";\", header=None)\n",
    "\n",
    "\n",
    "X=data.iloc[:,:-1].to_numpy()\n",
    "y=data.iloc[:,-1].to_numpy()\n",
    "X_train, X_test, y_train, y_test = train_test_split(X,y,test_size=0.33, random_state=42)"
   ]
  },
  {
   "cell_type": "markdown",
   "metadata": {},
   "source": [
    "## Logistic Regression\n",
    "\n"
   ]
  },
  {
   "cell_type": "markdown",
   "metadata": {},
   "source": [
    "Today weâ€™ll be moving from linear regression to logistic regression, one of the simplest ways to deal with a classification problem. Instead of fitting a line, logistic regression models the probability that the outcome is 1 given the value of the predictor. In order to do this we need a function that transforms our predictor variable to a value between 0 and 1. Lots of functions can do that, but the logistic function is the most common choice:\n",
    "\n",
    "$$f(z) = \\frac{1}{1+\\exp{-z}}.$$\n",
    "\n",
    "To predict the class of our observations we'll have to minimize the corresponding loss function and as we are in a high-dimensional context we'll add an $l_2$ regularization to the model:\n",
    "\n",
    "$$L(\\textbf{w}) = \\sum_{i=1}^n log(1+\\exp(-y_i\\textbf{w}^Tx_i))+\\frac{\\lambda}{2} \\| \\textbf{w} \\|^2,$$\n",
    "\n",
    "where $x_i$ is the vector of features for the observation $i$ and $y_i \\in \\{-1, 1\\}$ is the class label.  \n"
   ]
  },
  {
   "cell_type": "markdown",
   "metadata": {},
   "source": [
    "We first use the `sklearn` implementation:"
   ]
  },
  {
   "cell_type": "code",
   "execution_count": 53,
   "metadata": {},
   "outputs": [],
   "source": [
    "from sklearn.linear_model import LogisticRegression\n",
    "model = LogisticRegression(penalty=\"l2\", C=2) \n",
    "model.fit(X_train, y_train)\n",
    "y_pred = model.predict(X_test)"
   ]
  },
  {
   "cell_type": "markdown",
   "metadata": {},
   "source": [
    "and we compute the accuracy score to evaluate the model performance:"
   ]
  },
  {
   "cell_type": "code",
   "execution_count": 54,
   "metadata": {},
   "outputs": [
    {
     "data": {
      "text/plain": [
       "0.985320989158241"
      ]
     },
     "execution_count": 54,
     "metadata": {},
     "output_type": "execute_result"
    }
   ],
   "source": [
    "from sklearn.metrics import accuracy_score\n",
    "accuracy_score(y_test, y_pred)"
   ]
  },
  {
   "cell_type": "markdown",
   "metadata": {},
   "source": [
    "### Assignment\n",
    "\n",
    "Implement from scratch your own logistic regression model with stochastic gradient descent optimization. \n",
    "\n",
    "- Fill in the class\n",
    "\n",
    "- Display the evolution of the cost function along iterations. Do this for several strategies for the setting of the learning rate\n",
    "\n",
    "- Try the different acceleration strategies\n",
    "\n",
    "- Train the model with the training set and evaluate its performance in the test set"
   ]
  },
  {
   "cell_type": "code",
   "execution_count": 44,
   "metadata": {},
   "outputs": [],
   "source": [
    "class StochasticLogisticRegression():\n",
    "    \"\"\" Class for logistic regression:\n",
    "    \n",
    "    Attributes:\n",
    "    -----------\n",
    "    coef_: 1-dimensional np.array\n",
    "        coefficients \n",
    "    alpha_: float\n",
    "        regularization parameter\n",
    "    lr_: float\n",
    "        the learning rate\n",
    "    bsize: integer\n",
    "        the size of the mini-batch >=1\n",
    "    coef_history_: list\n",
    "        the list of all visited betas\n",
    "    f_history_: list \n",
    "        the list of all evaluations in visited betas\n",
    "    \"\"\"\n",
    "    def __init__(self, lr = 1e-3, gamma=.9,beta=0.999, max_iter=100,lambd=0.1,\n",
    "                 batch_size=1, eps=1e-10, debias=False):\n",
    "        self.coef_  = None\n",
    "        self.lambd_ = lambd\n",
    "        self.lr_     = lr\n",
    "        self.batch_size_  = batch_size\n",
    "        self.coef_history_ = list()\n",
    "        self.f_history_ = list()\n",
    "        self.gamma_ = gamma\n",
    "        self.beta_ = beta\n",
    "        self.eps_ = eps\n",
    "        self.debias_ = debias\n",
    "        self.max_iter_ = max_iter\n",
    "\n",
    "    def logistic(self, z):\n",
    "        # logistic function\n",
    "        return 1/(1 + np.exp(-z))\n",
    "        \n",
    "    def fit(self, X, y):\n",
    "        \"\"\" Fit the data (X, y).\n",
    "    \n",
    "        Parameters:\n",
    "        -----------\n",
    "        X: (num_samples, num_features) np.array\n",
    "            Design matrix\n",
    "        y: (num_sampes, ) np.array\n",
    "            Output vector\n",
    "        \n",
    "        Note:\n",
    "        -----\n",
    "        Updates self.coef_\n",
    "        \"\"\"      \n",
    "        n_samples, n_features = X.shape\n",
    "        X_aug = np.ones((n_samples, n_features + 1))\n",
    "        X_aug[:, 1:] = X\n",
    "        \n",
    "        #initializ\n",
    "        start = np.random.normal(0.1,0.01,(1,n_features+1))\n",
    "        theta_0, grad_0, m_0, s_0 = start, start, start, start\n",
    "        \n",
    "        self.coef_history_.append(theta_0)\n",
    "        \n",
    "        def compute_loss(theta):\n",
    "            \"compute the logisitic loss over all obseravtaions\"\n",
    "            loss = 0\n",
    "            for i in range(n_samples):\n",
    "                loss+= math.log(1 + math.exp(-y[i]*theta@(X_aug[i,:].T)))\n",
    "            #loss+=0.5*self.lambd_*(theta @ theta.T)\n",
    "            return loss\n",
    "        \n",
    "        def compute_grad(theta, batch_indices):\n",
    "            \"compute a minibatch gradient\"\n",
    "            grad = np.zeros((1,n_features+1))\n",
    "            for ind in batch_indices:\n",
    "                grad+= y[ind]*self.logistic(-y[ind]*theta@X_aug[ind,:].T)*X_aug[ind,:]\n",
    "            grad = -1*grad + self.lambd_*theta\n",
    "            grad = grad/len(batch_indices)\n",
    "            return grad\n",
    "                \n",
    "            \n",
    "            \n",
    "        #iterate and update(theta_t, grad_t, m_t, s_t)\n",
    "        theta_t, grad_t, m_t, s_t = theta_0, grad_0, m_0, s_0\n",
    "        \n",
    "        for t in range(self.max_iter_):\n",
    "            #update theta\n",
    "            theta_t = theta_t - self.lr_ * m_t/np.sqrt(s_t+self.eps_)\n",
    "            \n",
    "            self.coef_history_.append(theta_t)\n",
    "            self.f_history_.append(compute_loss(theta_t))\n",
    "            #update grad_t\n",
    "            batch_indices = np.random.randint(n_samples, size = self.batch_size_)\n",
    "            grad = compute_grad(theta_t, batch_indices)\n",
    "            \n",
    "            #update m_t\n",
    "            m_t = self.beta_*m_t + (1-self.beta_)*grad\n",
    "            if self.debias_:\n",
    "                m_t = m_t /(1-self.beta_**t)\n",
    "            \n",
    "            #update s_t\n",
    "            s_t = self.gamma_*s_t + (1-self.gamma_)*(grad*grad)\n",
    "            if self.debias_:\n",
    "                s_t = s_t/(1-self.gamma_**t)\n",
    "        \n",
    "        #record best teta after having iterated\n",
    "        self.coef_ = theta_t\n",
    "        \n",
    "         \n",
    "    def predict(self, X):\n",
    "        \"\"\" Make binary predictions for data X.\n",
    "    \n",
    "        Parameters:\n",
    "        -----------\n",
    "        X: (num_samples, num_features) np.array\n",
    "            Design matrix\n",
    "        \n",
    "        Returns:\n",
    "        -----\n",
    "        y_pred: (num_samples, ) np.array\n",
    "            Predictions (0 or 1)\n",
    "        \"\"\"\n",
    "        n_samples, n_features = X.shape\n",
    "        X_aug = np.ones((n_samples, n_features + 1))\n",
    "        X_aug[:, 1:] = X\n",
    "        y_pred = X_aug @ self.coef_.T  #these are probabilities\n",
    "        #We apply a threshold (>0.5) on probability to get predictions\n",
    "        y_pred1 = []\n",
    "        for prob in y_pred:\n",
    "            if prob>0.5:\n",
    "                y_pred1.append(1)\n",
    "            else:\n",
    "                y_pred1.append(-1)\n",
    "        return y_pred1"
   ]
  },
  {
   "cell_type": "markdown",
   "metadata": {},
   "source": [
    "### Train the model (Adam) on training data"
   ]
  },
  {
   "cell_type": "code",
   "execution_count": 36,
   "metadata": {},
   "outputs": [],
   "source": [
    "slr_classifier = StochasticLogisticRegression(max_iter=400)\n",
    "slr_classifier.fit(X_train, y_train)"
   ]
  },
  {
   "cell_type": "markdown",
   "metadata": {},
   "source": [
    "### Test on test Data"
   ]
  },
  {
   "cell_type": "code",
   "execution_count": 37,
   "metadata": {},
   "outputs": [],
   "source": [
    "y_pred = slr_classifier.predict(X_test)"
   ]
  },
  {
   "cell_type": "code",
   "execution_count": 40,
   "metadata": {},
   "outputs": [
    {
     "data": {
      "text/plain": [
       "0.9696674381776099"
      ]
     },
     "execution_count": 40,
     "metadata": {},
     "output_type": "execute_result"
    }
   ],
   "source": [
    "accuracy_score(y_test, y_pred)"
   ]
  },
  {
   "cell_type": "code",
   "execution_count": 51,
   "metadata": {},
   "outputs": [
    {
     "name": "stdout",
     "output_type": "stream",
     "text": [
      "classification report\n",
      "              precision    recall  f1-score   support\n",
      "\n",
      "          -1       0.97      1.00      0.98     15920\n",
      "           1       0.00      0.00      0.00       498\n",
      "\n",
      "    accuracy                           0.97     16418\n",
      "   macro avg       0.48      0.50      0.49     16418\n",
      "weighted avg       0.94      0.97      0.95     16418\n",
      "\n",
      "classification matrix\n",
      "[[15920     0]\n",
      " [  498     0]]\n"
     ]
    }
   ],
   "source": [
    "from sklearn.metrics import confusion_matrix, classification_report\n",
    "print(\"classification report\")\n",
    "print(classification_report(y_test, y_pred))\n",
    "print(\"classification matrix\")\n",
    "print(confusion_matrix(y_test, y_pred))"
   ]
  },
  {
   "cell_type": "markdown",
   "metadata": {},
   "source": [
    "**Comments**\n",
    "- We initialize the parameters using a gaussian distribution with mean=0.1 and standard deviation=0.01\n",
    "- We set debias=False because otherwise the gradients would explode after few iterations.\n",
    "- We train our model using Adam algorithm, and we obtain a 96,97% test accuracy.\n",
    "- Althought we obtain a good test accuracy, the trained model does not perform well on our imbalanced data as we can see in the confusion matrix. The f1-score metric should be used in this case as it takes imbalance into account."
   ]
  },
  {
   "cell_type": "markdown",
   "metadata": {},
   "source": [
    "## Hyperparameters analysis"
   ]
  },
  {
   "cell_type": "markdown",
   "metadata": {},
   "source": [
    "### Batch Size"
   ]
  },
  {
   "cell_type": "code",
   "execution_count": 42,
   "metadata": {},
   "outputs": [],
   "source": [
    "#train classifier with batch_size = 1\n",
    "slr_classifier_1 = StochasticLogisticRegression(batch_size=1, max_iter = 600)\n",
    "slr_classifier_1.fit(X_train, y_train)"
   ]
  },
  {
   "cell_type": "code",
   "execution_count": 46,
   "metadata": {},
   "outputs": [],
   "source": [
    "#train classifier with batch_size = 16\n",
    "slr_classifier_2 = StochasticLogisticRegression(batch_size=16, max_iter = 600)\n",
    "slr_classifier_2.fit(X_train, y_train)"
   ]
  },
  {
   "cell_type": "code",
   "execution_count": 21,
   "metadata": {},
   "outputs": [],
   "source": [
    "#train classifier with batch_size = 32\n",
    "slr_classifier_3 = StochasticLogisticRegression(batch_size=32, max_iter = 600)\n",
    "slr_classifier_3.fit(X_train, y_train)"
   ]
  },
  {
   "cell_type": "code",
   "execution_count": 48,
   "metadata": {},
   "outputs": [],
   "source": [
    "#train classifier with batch_size = 64\n",
    "slr_classifier_4 = StochasticLogisticRegression(batch_size=64, max_iter = 600)\n",
    "slr_classifier_4.fit(X_train, y_train)"
   ]
  },
  {
   "cell_type": "code",
   "execution_count": 52,
   "metadata": {},
   "outputs": [
    {
     "data": {
      "image/png": "[encoded data removed]",
      "text/plain": [
       "<Figure size 432x288 with 1 Axes>"
      ]
     },
     "metadata": {},
     "output_type": "display_data"
    }
   ],
   "source": [
    "plt.figure()\n",
    "plt.plot(slr_classifier_1.f_history_,label=\"batch = 1\")\n",
    "plt.plot(slr_classifier_2.f_history_, label=\"batch = 16\")\n",
    "#plt.plot(slr_classifier_3.f_history_, label=\"batch = 32\")\n",
    "plt.plot(slr_classifier_4.f_history_, label=\"batch = 64\")\n",
    "\n",
    "lines = plt.gca().get_lines()\n",
    "include = [0,1,2]\n",
    "legend1 = plt.legend([lines[i] for i in include],[lines[i].get_label() for i in include], loc=1)\n",
    "\n",
    "plt.ylabel('training loss')\n",
    "plt.xlabel('iterations')\n",
    "plt.show()"
   ]
  },
  {
   "cell_type": "markdown",
   "metadata": {},
   "source": [
    "- Normally, when a batch size is big enough, we get a stable estimate of what the gradient of the full data would be. A big batch size reduces computational cost as well.\n",
    "- Normally a small batch size yields a noisy less accurate estimate of the gradient. But in our case, these noisy gradients helped escape the local minima (at iteration ~150)."
   ]
  },
  {
   "cell_type": "markdown",
   "metadata": {},
   "source": [
    "### Learning Rate"
   ]
  },
  {
   "cell_type": "code",
   "execution_count": 30,
   "metadata": {},
   "outputs": [],
   "source": [
    "#train classifier with learning rate = 1e-4\n",
    "slr_classifier_1 = StochasticLogisticRegression(lr=1e-4, max_iter=400)\n",
    "slr_classifier_1.fit(X_train, y_train)"
   ]
  },
  {
   "cell_type": "code",
   "execution_count": 32,
   "metadata": {},
   "outputs": [],
   "source": [
    "#train classifier with learning rate = 1e-3\n",
    "slr_classifier_2 = StochasticLogisticRegression(lr=1e-3, max_iter=400)\n",
    "slr_classifier_2.fit(X_train, y_train)"
   ]
  },
  {
   "cell_type": "code",
   "execution_count": 33,
   "metadata": {},
   "outputs": [],
   "source": [
    "#train classifier with learning rate = 0.01\n",
    "slr_classifier_3 = StochasticLogisticRegression(lr=1e-2, max_iter=400)\n",
    "slr_classifier_3.fit(X_train, y_train)"
   ]
  },
  {
   "cell_type": "code",
   "execution_count": 34,
   "metadata": {},
   "outputs": [],
   "source": [
    "#train classifier with learning rate = 0.1\n",
    "slr_classifier_4 = StochasticLogisticRegression(lr=1e-1, max_iter=400)\n",
    "slr_classifier_4.fit(X_train, y_train)"
   ]
  },
  {
   "cell_type": "code",
   "execution_count": 35,
   "metadata": {},
   "outputs": [
    {
     "data": {
      "image/png": "[encoded data removed]",
      "text/plain": [
       "<Figure size 432x288 with 1 Axes>"
      ]
     },
     "metadata": {},
     "output_type": "display_data"
    }
   ],
   "source": [
    "plt.figure()\n",
    "plt.plot(slr_classifier_1.f_history_,label=\"lr = 1e-4\")\n",
    "plt.plot(slr_classifier_2.f_history_,label=\"lr = 1e-3\")\n",
    "plt.plot(slr_classifier_3.f_history_, label=\"lr = 1e-2\")\n",
    "plt.plot(slr_classifier_4.f_history_, label=\"lr = 1e-1\")\n",
    "\n",
    "lines = plt.gca().get_lines()\n",
    "include = [0,1,2,3]\n",
    "legend1 = plt.legend([lines[i] for i in include],[lines[i].get_label() for i in include], loc=1)\n",
    "\n",
    "plt.ylabel('training loss')\n",
    "plt.xlabel('iterations')\n",
    "plt.show()"
   ]
  },
  {
   "cell_type": "markdown",
   "metadata": {},
   "source": [
    "The learning rate controls how the parameters are updated at each iteration after computing the gradient.\n",
    "In other words the learning rates controls how the model is adapted to the problem.\n",
    "- If the learning rate is too small (lr = 1e-4), the changes of the parameters values at each update is too small. Hence, to converge to the optimal solution we need many iterations (Here 400 are not suffiscient, the training is visibly still decreasing for lr = 1e-4)\n",
    "- If the learning rate is too large (lr = 0.1), the changes of the parameters values are too important. As a result, the model converges to a suboptimal solution very quickly (after 20 iterations) and then the training loss increases. Same thing for a lr=1e-2.\n",
    "- A learning rate equal to 1e-3 seems to be a good choice as the training loss is slowly and consistently decreasing towards an optimal solution."
   ]
  },
  {
   "cell_type": "markdown",
   "metadata": {},
   "source": [
    "## Gamma"
   ]
  },
  {
   "cell_type": "code",
   "execution_count": 26,
   "metadata": {},
   "outputs": [],
   "source": [
    "#train classifier with gamma = 0.1\n",
    "slr_classifier_1 = StochasticLogisticRegression(gamma=0.1, max_iter=400)\n",
    "slr_classifier_1.fit(X_train, y_train)"
   ]
  },
  {
   "cell_type": "code",
   "execution_count": 27,
   "metadata": {},
   "outputs": [],
   "source": [
    "#train classifier with gamma = 0.5\n",
    "slr_classifier_2 = StochasticLogisticRegression(gamma=0.5, max_iter=400)\n",
    "slr_classifier_2.fit(X_train, y_train)"
   ]
  },
  {
   "cell_type": "code",
   "execution_count": 28,
   "metadata": {},
   "outputs": [],
   "source": [
    "#train classifier with gamma = 0.9\n",
    "slr_classifier_3 = StochasticLogisticRegression(gamma=0.9, max_iter=400)\n",
    "slr_classifier_3.fit(X_train, y_train)"
   ]
  },
  {
   "cell_type": "code",
   "execution_count": 29,
   "metadata": {},
   "outputs": [
    {
     "data": {
      "image/png": "[encoded data removed]",
      "text/plain": [
       "<Figure size 432x288 with 1 Axes>"
      ]
     },
     "metadata": {},
     "output_type": "display_data"
    }
   ],
   "source": [
    "plt.figure()\n",
    "plt.plot(slr_classifier_1.f_history_,label=\"gamma = 0.1\")\n",
    "plt.plot(slr_classifier_2.f_history_, label=\"gamma = 0.5\")\n",
    "plt.plot(slr_classifier_3.f_history_, label=\"gamma = 0.9\")\n",
    "\n",
    "lines = plt.gca().get_lines()\n",
    "include = [0,1,2]\n",
    "legend1 = plt.legend([lines[i] for i in include],[lines[i].get_label() for i in include], loc=1)\n",
    "\n",
    "plt.ylabel('training loss')\n",
    "plt.xlabel('iterations')\n",
    "plt.show()"
   ]
  },
  {
   "cell_type": "markdown",
   "metadata": {},
   "source": [
    "Here a value of 0.9 for gamma seems to be good because the training loss is decreasing slowly to an optimal solution.\n",
    "For smaller values of betas (0.5 and 0.1 for example) the training loss deceases very quickly and converges to a sub-optimal solution."
   ]
  }
 ],
 "metadata": {
  "anaconda-cloud": {},
  "kernelspec": {
   "display_name": "sklearn",
   "language": "python",
   "name": "sklearn"
  },
  "language_info": {
   "codemirror_mode": {
    "name": "ipython",
    "version": 3
   },
   "file_extension": ".py",
   "mimetype": "text/x-python",
   "name": "python",
   "nbconvert_exporter": "python",
   "pygments_lexer": "ipython3",
   "version": "3.8.5"
  }
 },
 "nbformat": 4,
 "nbformat_minor": 2
}
